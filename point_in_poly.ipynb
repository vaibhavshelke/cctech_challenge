{
  "nbformat": 4,
  "nbformat_minor": 0,
  "metadata": {
    "colab": {
      "name": "point_in_poly.ipynb",
      "provenance": [],
      "collapsed_sections": []
    },
    "kernelspec": {
      "name": "python3",
      "display_name": "Python 3"
    }
  },
  "cells": [
    {
      "cell_type": "code",
      "metadata": {
        "id": "7-6LpdZu8Ma-",
        "colab_type": "code",
        "colab": {}
      },
      "source": [
        "import numpy as np\n",
        "def is_point_in_poly(p, v):\n",
        "  '''\n",
        "  Arguements:\n",
        "  p: coordinate of point to be check\n",
        "  v: vertex points of polygon\n",
        "\n",
        "  return:\n",
        "  True if point is in polygon\n",
        "  else False\n",
        "  '''\n",
        "  count = 0    # the crossing number counter\n",
        "\n",
        "    # repeat the first vertex at end\n",
        "  v = tuple(v[:])+(v[0],)\n",
        "\n",
        "    # loop through all edges of the polygon\n",
        "  for i in range(len(v)-1):   # edge from V[i] to V[i+1]\n",
        "        if ((v[i][1] <= p[1] and v[i+1][1] > p[1])   # an upward crossing\n",
        "            or (v[i][1] > p[1] and v[i+1][1] <= p[1])):  # a downward crossing\n",
        "            # compute the actual edge-ray intersect x-coordinate\n",
        "            vt = (p[1] - v[i][1]) / float(v[i+1][1] - v[i][1])\n",
        "            if p[0] < v[i][0] + vt * (v[i+1][0] - v[i][0]): # P[0] < intersect\n",
        "                count += 1  # a valid crossing of y=P[1] right of P[0]\n",
        "\n",
        "  if count % 2==0:\n",
        "      print(False)\n",
        "  else:\n",
        "      print(True)    \n",
        "\n"
      ],
      "execution_count": 0,
      "outputs": []
    },
    {
      "cell_type": "code",
      "metadata": {
        "id": "g_OO9-GKqahf",
        "colab_type": "code",
        "outputId": "c9df8762-c394-4cac-cca7-48a32cc6a10e",
        "colab": {
          "base_uri": "https://localhost:8080/",
          "height": 34
        }
      },
      "source": [
        "v=[(-3,2),(-2,-0.8),(0,1.2),(2.2,5)]\n",
        "p=(0,0)\n",
        "(is_point_in_poly(p,v))"
      ],
      "execution_count": 0,
      "outputs": [
        {
          "output_type": "stream",
          "text": [
            "False\n"
          ],
          "name": "stdout"
        }
      ]
    },
    {
      "cell_type": "code",
      "metadata": {
        "id": "myPfQPgY8VD7",
        "colab_type": "code",
        "colab": {}
      },
      "source": [
        "\n"
      ],
      "execution_count": 0,
      "outputs": []
    },
    {
      "cell_type": "code",
      "metadata": {
        "id": "XgPZ-nb29EK_",
        "colab_type": "code",
        "colab": {}
      },
      "source": [
        ""
      ],
      "execution_count": 0,
      "outputs": []
    }
  ]
}