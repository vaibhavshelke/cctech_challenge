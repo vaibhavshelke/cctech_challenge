{
  "nbformat": 4,
  "nbformat_minor": 0,
  "metadata": {
    "colab": {
      "name": "sunlight_length.ipynb",
      "provenance": [],
      "collapsed_sections": []
    },
    "kernelspec": {
      "name": "python3",
      "display_name": "Python 3"
    }
  },
  "cells": [
    {
      "cell_type": "code",
      "metadata": {
        "id": "8lpUJ-ydhPJv",
        "colab_type": "code",
        "colab": {}
      },
      "source": [
        "import numpy as np\n",
        "#find point of intersection of two lines\n",
        "def line_intersection(l1, l2):\n",
        "  '''\n",
        "  arguments---\n",
        "  l1: endpoints of l1 \n",
        "  l2: endpoints of l2 \n",
        "  returns\n",
        "  coordinats  of point of intersection of l1 & l2\n",
        "  '''\n",
        "    dx = (l1[0][0] - l1[1][0], l2[0][0] - l2[1][0]) #diff between x-coordinates\n",
        "    dy = (l1[0][1] - l1[1][1], l2[0][1] - l2[1][1]) #diff between y-coordinates\n",
        "     \n",
        "  #calculate determinant\n",
        "    def det(a, b):\n",
        "        return a[0] * b[1] - a[1] * b[0]\n",
        "\n",
        "    div = det(dx, dy)\n",
        "    if div == 0:\n",
        "       raise Exception('lines do not intersect') \n",
        "\n",
        "    d = (det(*l1), det(*l2))\n",
        "    x = det(d, dx) / div\n",
        "    y = det(d, dy) / div\n",
        "    e=(x,y)                \n",
        "    return e                  \n",
        "\n",
        "def length_of_sunlight(v,s):\n",
        "  '''\n",
        "  arguements:\n",
        "  v= (n*4*2)array consisting the coordinates of n buildings in 2-D, where n is number of buildings\n",
        "  s=coordinated of source of light in 2-D\n",
        "  \n",
        "  return:\n",
        "  length of light in 2D\n",
        "  '''\n",
        "    if(len(v))==1:\n",
        "      p=line_intersection((s,v[0][1]),(v[0][0],v[0][1]))\n",
        "      q=line_intersection((s,v[0][3]),(v[0][0],v[0][3]))\n",
        "      l=(q[0]-v[0][0][0]) + (v[0][0][1]-p[1])\n",
        "    \n",
        "    elif (len(v))==2:\n",
        "      p=line_intersection((s,v[1][1]),(v[1][1],v[1][0]))\n",
        "      q=line_intersection((s,v[1][3]),(v[1][0],v[1][3]))\n",
        "      r=line_intersection((s,v[1][3]),(v[0][1],v[0][0]))\n",
        "      s=line_intersection((s,v[0][3]),(v[0][0],v[0][3]))\n",
        "      l= (v[1][0][1]-p[1]) + (q[0]-v[1][0][0]) + (v[0][0][1]-r[1]) + (s[0]-v[0][0][0])\n",
        "    return l\n"
      ],
      "execution_count": 0,
      "outputs": []
    },
    {
      "cell_type": "code",
      "metadata": {
        "id": "FKo8zoL8Zntx",
        "colab_type": "code",
        "outputId": "b560d8f2-097d-4463-8e4f-672f12e3bf24",
        "colab": {
          "base_uri": "https://localhost:8080/",
          "height": 34
        }
      },
      "source": [
        "v=[[[4,0],[4,-5],[7,-5],[7,0]]]\n",
        "s=[1,1]\n",
        "length_of_sunlight(v,s)"
      ],
      "execution_count": 0,
      "outputs": [
        {
          "output_type": "execute_result",
          "data": {
            "text/plain": [
              "8.0"
            ]
          },
          "metadata": {
            "tags": []
          },
          "execution_count": 198
        }
      ]
    },
    {
      "cell_type": "code",
      "metadata": {
        "id": "yzzRvqNla5oW",
        "colab_type": "code",
        "colab": {}
      },
      "source": [
        ""
      ],
      "execution_count": 0,
      "outputs": []
    }
  ]
}